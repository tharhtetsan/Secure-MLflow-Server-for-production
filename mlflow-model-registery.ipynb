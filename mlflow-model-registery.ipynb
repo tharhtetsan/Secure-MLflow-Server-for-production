{
 "cells": [
  {
   "attachments": {},
   "cell_type": "markdown",
   "metadata": {},
   "source": [
    "## MLflow's Model Registry"
   ]
  },
  {
   "cell_type": "code",
   "execution_count": 1,
   "metadata": {},
   "outputs": [],
   "source": [
    "from mlflow.tracking import MlflowClient\n",
    "import os "
   ]
  },
  {
   "cell_type": "code",
   "execution_count": 2,
   "metadata": {},
   "outputs": [],
   "source": [
    "os.environ['GOOGLE_APPLICATION_CREDENTIALS'] = r'.\\serviceAccount.json'\n",
    "os.environ['MLFLOW_TRACKING_USERNAME'] = 'name'\n",
    "os.environ['MLFLOW_TRACKING_PASSWORD'] = 'password'\n",
    "\n",
    "MLFLOW_TRACKING_URI = \"https://mlflow-server-\"\n"
   ]
  },
  {
   "attachments": {},
   "cell_type": "markdown",
   "metadata": {},
   "source": [
    "#### Interacting with the MLflow tracking server\n",
    "The MlflowClient object allows us to interact with...\n",
    "\n",
    "- an MLflow Tracking Server that creates and manages experiments and runs.\n",
    "- an MLflow Registry Server that creates and manages registered models and model versions.\n",
    "\n",
    "To instantiate it we need to pass a tracking URI and/or a registry URI"
   ]
  },
  {
   "cell_type": "code",
   "execution_count": 18,
   "metadata": {},
   "outputs": [],
   "source": [
    "client = MlflowClient(tracking_uri=MLFLOW_TRACKING_URI)"
   ]
  },
  {
   "cell_type": "code",
   "execution_count": 19,
   "metadata": {},
   "outputs": [],
   "source": [
    "exp_name = \"body-neg-side\"\n",
    "#client.create_experiment(exp_name)"
   ]
  },
  {
   "cell_type": "code",
   "execution_count": 20,
   "metadata": {},
   "outputs": [],
   "source": [
    "from mlflow.entities import ViewType\n",
    "\n",
    "runs = client.search_runs(\n",
    "    experiment_ids='1',\n",
    "    filter_string=\"metrics.val_acc > .25\",\n",
    "    run_view_type=ViewType.ACTIVE_ONLY,\n",
    "    max_results = 3,\n",
    "order_by = ['metrics.val_acc ASC']\n",
    ")\n"
   ]
  },
  {
   "cell_type": "code",
   "execution_count": 21,
   "metadata": {},
   "outputs": [],
   "source": [
    "for run in runs:\n",
    "    print(f\"run id: {run.info.run_id}, rmse: {run.data.metrics['val_acc']:.4f}\")"
   ]
  },
  {
   "attachments": {},
   "cell_type": "markdown",
   "metadata": {},
   "source": [
    "#### Interacting with model registry\n",
    "creat new verion of \"skin-cancer-classifier\""
   ]
  },
  {
   "cell_type": "code",
   "execution_count": 22,
   "metadata": {},
   "outputs": [
    {
     "name": "stderr",
     "output_type": "stream",
     "text": [
      "Successfully registered model 'tandam_body_neg-side_v1'.\n",
      "2023/05/17 15:18:34 INFO mlflow.tracking._model_registry.client: Waiting up to 300 seconds for model version to finish creation. Model name: tandam_body_neg-side_v1, version 1\n",
      "Created version '1' of model 'tandam_body_neg-side_v1'.\n"
     ]
    },
    {
     "data": {
      "text/plain": [
       "<ModelVersion: aliases=[], creation_timestamp=1684313314055, current_stage='None', description='', last_updated_timestamp=1684313314055, name='tandam_body_neg-side_v1', run_id='e991a02f0b0e4e53afe4e28388f80e97', run_link='', source='gs://aiteam-mlflow-storage-bucket/models/3/e991a02f0b0e4e53afe4e28388f80e97/artifacts/model', status='READY', status_message='', tags={}, user_id='', version='1'>"
      ]
     },
     "execution_count": 22,
     "metadata": {},
     "output_type": "execute_result"
    }
   ],
   "source": [
    "import mlflow\n",
    "mlflow.set_tracking_uri(MLFLOW_TRACKING_URI)\n",
    "\n",
    "\n",
    "run_id = \"e991a02f0b0e4e53afe4e28388f80e97\"\n",
    "model_name = \"tandam_body_neg-side_v1\"\n",
    "model_uri = f\"runs:/{run_id}/model\"\n",
    "mlflow.register_model(model_uri=model_uri,name=model_name)\n"
   ]
  },
  {
   "cell_type": "code",
   "execution_count": 23,
   "metadata": {},
   "outputs": [
    {
     "name": "stdout",
     "output_type": "stream",
     "text": [
      "version: 1, stage: None\n"
     ]
    }
   ],
   "source": [
    "## check model version\n",
    "latest_verions = client.get_latest_versions(name=model_name)\n",
    "\n",
    "\n",
    "for version in latest_verions:\n",
    "    print(f\"version: {version.version}, stage: {version.current_stage}\")"
   ]
  },
  {
   "cell_type": "code",
   "execution_count": 24,
   "metadata": {},
   "outputs": [
    {
     "data": {
      "text/plain": [
       "<ModelVersion: aliases=[], creation_timestamp=1684313314055, current_stage='Staging', description='', last_updated_timestamp=1684313329959, name='tandam_body_neg-side_v1', run_id='e991a02f0b0e4e53afe4e28388f80e97', run_link='', source='gs://aiteam-mlflow-storage-bucket/models/3/e991a02f0b0e4e53afe4e28388f80e97/artifacts/model', status='READY', status_message='', tags={}, user_id='', version='1'>"
      ]
     },
     "execution_count": 24,
     "metadata": {},
     "output_type": "execute_result"
    }
   ],
   "source": [
    "## set model to Staging\n",
    "model_version = 1\n",
    "new_stage = \"Staging\"\n",
    "client.transition_model_version_stage(\n",
    "    name = model_name,\n",
    "    version = model_version,\n",
    "    stage = new_stage,\n",
    "    archive_existing_versions=False\n",
    ")"
   ]
  },
  {
   "cell_type": "code",
   "execution_count": 15,
   "metadata": {},
   "outputs": [
    {
     "data": {
      "text/plain": [
       "<ModelVersion: creation_timestamp=1662355041620, current_stage='Staging', description='The model version 6 was transitioned to Staging on 2022-09-05', last_updated_timestamp=1662360064557, name='skin-cancer-classifier', run_id='04043070e0d740a4b4f4889b6147ff5a', run_link=None, source='./mlruns/1/04043070e0d740a4b4f4889b6147ff5a/artifacts/model', status='READY', status_message=None, tags={}, user_id=None, version=6>"
      ]
     },
     "execution_count": 15,
     "metadata": {},
     "output_type": "execute_result"
    }
   ],
   "source": [
    "from datetime import datetime\n",
    "date = datetime.today().date()\n",
    "client.update_model_version(\n",
    "    name=model_name,\n",
    "    version=model_version,\n",
    "    description=f\"The model version {model_version} was transitioned to {new_stage} on {date}\"\n",
    ")"
   ]
  },
  {
   "attachments": {},
   "cell_type": "markdown",
   "metadata": {},
   "source": [
    "### Load model based on Stages"
   ]
  },
  {
   "cell_type": "code",
   "execution_count": 25,
   "metadata": {},
   "outputs": [
    {
     "name": "stdout",
     "output_type": "stream",
     "text": [
      "models:/tandam_body_neg-side_v1/Staging\n"
     ]
    }
   ],
   "source": [
    "import mlflow.keras\n",
    "#stage=\"Production\"\n",
    "stage=\"Staging\"\n",
    "name=model_name\n",
    "\n",
    "model_path = f\"models:/{name}/{stage}\"\n",
    "\n",
    "print(model_path)\n",
    "tf_model = mlflow.keras.load_model(model_path)\n"
   ]
  },
  {
   "cell_type": "code",
   "execution_count": null,
   "metadata": {},
   "outputs": [],
   "source": []
  }
 ],
 "metadata": {
  "kernelspec": {
   "display_name": "Python 3.9.12 ('tharhtet')",
   "language": "python",
   "name": "python3"
  },
  "language_info": {
   "codemirror_mode": {
    "name": "ipython",
    "version": 3
   },
   "file_extension": ".py",
   "mimetype": "text/x-python",
   "name": "python",
   "nbconvert_exporter": "python",
   "pygments_lexer": "ipython3",
   "version": "3.10.11"
  },
  "orig_nbformat": 4,
  "vscode": {
   "interpreter": {
    "hash": "b46ff7e5b8b7911cfa9955e23e477c53e63d207f4b9ab3253a6a5ac7336ecbe5"
   }
  }
 },
 "nbformat": 4,
 "nbformat_minor": 2
}
